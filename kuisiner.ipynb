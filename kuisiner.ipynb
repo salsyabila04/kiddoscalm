{
 "cells": [
  {
   "cell_type": "code",
   "execution_count": 1,
   "metadata": {},
   "outputs": [],
   "source": [
    "kategori=[[1,1,1,1,1,1,1,1,1,1,1,1,0,0,0,0,0,0,0,0]]"
   ]
  },
  {
   "cell_type": "code",
   "execution_count": 2,
   "metadata": {},
   "outputs": [
    {
     "name": "stdout",
     "output_type": "stream",
     "text": [
      "[0, 0, 0, 0, 0, 0, 0, 0, 0, 0, 0, 0, 0, 0, 0, 0, 0, 0, 0, 0]\n"
     ]
    }
   ],
   "source": [
    "#indikator\n",
    "indikator = [0 for i in range(20)]\n",
    "print(indikator)"
   ]
  },
  {
   "cell_type": "code",
   "execution_count": 4,
   "metadata": {},
   "outputs": [
    {
     "name": "stdout",
     "output_type": "stream",
     "text": [
      "1\n"
     ]
    },
    {
     "ename": "IndexError",
     "evalue": "list assignment index out of range",
     "output_type": "error",
     "traceback": [
      "\u001b[1;31m---------------------------------------------------------------------------\u001b[0m",
      "\u001b[1;31mIndexError\u001b[0m                                Traceback (most recent call last)",
      "Cell \u001b[1;32mIn[4], line 6\u001b[0m\n\u001b[0;32m      4\u001b[0m     \u001b[39mprint\u001b[39m(i\u001b[39m+\u001b[39m\u001b[39m1\u001b[39m)\n\u001b[0;32m      5\u001b[0m     x\u001b[39m=\u001b[39m\u001b[39mint\u001b[39m(\u001b[39minput\u001b[39m(\u001b[39m\"\u001b[39m\u001b[39mBerperilaku tersebut? 1 ya 0 tidak\u001b[39m\u001b[39m\"\u001b[39m))\n\u001b[1;32m----> 6\u001b[0m     diagnosa[i] \u001b[39m=\u001b[39m x\n\u001b[0;32m      8\u001b[0m \u001b[39mprint\u001b[39m(diagnosa)\n",
      "\u001b[1;31mIndexError\u001b[0m: list assignment index out of range"
     ]
    }
   ],
   "source": [
    "#input indikator\n",
    "\n",
    "for i in range (9):\n",
    "    print(i+1)\n",
    "    x=int(input(\"Berperilaku tersebut? 1 ya 0 tidak\"))\n",
    "    diagnosa[i] = x\n",
    "\n",
    "print(diagnosa)"
   ]
  },
  {
   "cell_type": "code",
   "execution_count": null,
   "metadata": {},
   "outputs": [],
   "source": []
  }
 ],
 "metadata": {
  "kernelspec": {
   "display_name": "Python 3",
   "language": "python",
   "name": "python3"
  },
  "language_info": {
   "codemirror_mode": {
    "name": "ipython",
    "version": 3
   },
   "file_extension": ".py",
   "mimetype": "text/x-python",
   "name": "python",
   "nbconvert_exporter": "python",
   "pygments_lexer": "ipython3",
   "version": "3.11.2"
  },
  "orig_nbformat": 4,
  "vscode": {
   "interpreter": {
    "hash": "54ad1ca10d5bf446e6ce2071d1763f416c1b5e10cbe71149203785ac8d3f2b55"
   }
  }
 },
 "nbformat": 4,
 "nbformat_minor": 2
}
